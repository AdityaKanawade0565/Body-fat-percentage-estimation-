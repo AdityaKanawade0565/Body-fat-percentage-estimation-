{
  "cells": [
    {
      "cell_type": "code",
      "execution_count": 1,
      "metadata": {
        "id": "HSEWm0KtH7et"
      },
      "outputs": [],
      "source": [
        "import pandas as pd\n",
        "import numpy as np\n",
        "import matplotlib.pyplot as plt"
      ]
    },
    {
      "cell_type": "code",
      "execution_count": 2,
      "metadata": {
        "colab": {
          "base_uri": "https://localhost:8080/"
        },
        "id": "_YycccvWIEzk",
        "outputId": "a5a622a6-a6a2-4e86-9c75-854e3ce6dc38"
      },
      "outputs": [
        {
          "data": {
            "text/plain": [
              "Index(['Density', 'BodyFat', 'Age', 'Weight', 'Height', 'Neck', 'Chest',\n",
              "       'Abdomen', 'Hip', 'Thigh', 'Biceps', 'Forearm'],\n",
              "      dtype='object')"
            ]
          },
          "execution_count": 2,
          "metadata": {},
          "output_type": "execute_result"
        }
      ],
      "source": [
        "df=pd.read_csv(\"bodyfat (1) (1).csv\")\n",
        "df.columns\n"
      ]
    },
    {
      "cell_type": "code",
      "execution_count": 3,
      "metadata": {
        "id": "EB_NU0t5IIG8"
      },
      "outputs": [],
      "source": [
        "x=df.iloc[:,2:].values\n",
        "y=df.iloc[:,1:2].values"
      ]
    },
    {
      "cell_type": "code",
      "execution_count": 4,
      "metadata": {
        "id": "jcIA4gCUIS_h"
      },
      "outputs": [],
      "source": [
        "from sklearn.model_selection import train_test_split\n",
        "from sklearn.ensemble import RandomForestRegressor\n",
        "import sklearn.metrics as sm\n",
        "X_train, X_test, Y_train, Y_test = train_test_split(x,y,test_size =0.2,random_state=0)"
      ]
    },
    {
      "cell_type": "code",
      "execution_count": 5,
      "metadata": {
        "colab": {
          "base_uri": "https://localhost:8080/"
        },
        "id": "TZusb3AQIa9y",
        "outputId": "6239fd31-34f0-47af-8957-c05d12975335"
      },
      "outputs": [
        {
          "name": "stdout",
          "output_type": "stream",
          "text": [
            "(201, 10) (51, 10)\n",
            "(201, 1) (51, 1)\n"
          ]
        }
      ],
      "source": [
        "print(X_train.shape, X_test.shape)\n",
        "print(Y_train.shape, Y_test.shape)"
      ]
    },
    {
      "cell_type": "code",
      "execution_count": 6,
      "metadata": {
        "id": "hBb23Q5oIj0X"
      },
      "outputs": [],
      "source": [
        "from sklearn.metrics import mean_squared_error, r2_score, mean_absolute_error, max_error"
      ]
    },
    {
      "cell_type": "code",
      "execution_count": 7,
      "metadata": {
        "colab": {
          "base_uri": "https://localhost:8080/"
        },
        "id": "J9viJJQmIneM",
        "outputId": "e667b5ba-991e-4140-f6ba-461e2b249d39"
      },
      "outputs": [
        {
          "name": "stdout",
          "output_type": "stream",
          "text": [
            "R^2 score =  0.78\n",
            "the mean absolute error for linear regression trained on BodyFat column is 3.38\n"
          ]
        },
        {
          "name": "stderr",
          "output_type": "stream",
          "text": [
            "C:\\Users\\adity\\AppData\\Local\\Temp\\ipykernel_16776\\1546481446.py:2: DataConversionWarning: A column-vector y was passed when a 1d array was expected. Please change the shape of y to (n_samples,), for example using ravel().\n",
            "  model.fit(X_train,Y_train)\n"
          ]
        }
      ],
      "source": [
        "\n",
        "model=RandomForestRegressor(n_estimators=20,random_state=0)\n",
        "model.fit(X_train,Y_train)\n",
        "\n",
        "Y_pred = model.predict(X_test)\n",
        "mae = mean_absolute_error(Y_test,Y_pred)\n",
        "print(\"R^2 score = \",round(r2_score(Y_test,Y_pred),2))\n",
        "print(f'the mean absolute error for linear regression trained on BodyFat column is {round(mae, 2)}')\n"
      ]
    },
    {
      "cell_type": "code",
      "execution_count": 11,
      "metadata": {
        "colab": {
          "base_uri": "https://localhost:8080/"
        },
        "id": "xtY48PJ6NdIi",
        "outputId": "74507ca1-6a63-46ce-961b-8c77106fae8e"
      },
      "outputs": [
        {
          "name": "stdout",
          "output_type": "stream",
          "text": [
            "7.144999999999998\n"
          ]
        }
      ],
      "source": [
        "inp_gender = 'female'\n",
        "inp_age = 22\n",
        "inp_weight = 173.25\n",
        "inp_height = 72.25\n",
        "inp_neck = 38.5\n",
        "inp_chest = 93.6\n",
        "inp_abdomen = 83\n",
        "inp_hip = 98.7\n",
        "inp_thigh = 58.7\n",
        "inp_biceps = 30.5\n",
        "inp_forearm = 28.9\n",
        "\n",
        "\n",
        "inp = [ inp_age, inp_weight, inp_height, inp_neck, inp_chest,\n",
        "      inp_abdomen, inp_hip, inp_thigh, inp_biceps, inp_forearm]\n",
        "predict = model.predict([[ inp_age, inp_weight, inp_height, inp_neck, inp_chest,\n",
        "      inp_abdomen, inp_hip, inp_thigh, inp_biceps, inp_forearm]])\n",
        "print(predict[0])"
      ]
    },
    {
      "cell_type": "code",
      "execution_count": null,
      "metadata": {
        "id": "uWJLPnUFfCqY"
      },
      "outputs": [],
      "source": []
    }
  ],
  "metadata": {
    "colab": {
      "provenance": []
    },
    "kernelspec": {
      "display_name": "base",
      "language": "python",
      "name": "python3"
    },
    "language_info": {
      "codemirror_mode": {
        "name": "ipython",
        "version": 3
      },
      "file_extension": ".py",
      "mimetype": "text/x-python",
      "name": "python",
      "nbconvert_exporter": "python",
      "pygments_lexer": "ipython3",
      "version": "3.9.13"
    },
    "vscode": {
      "interpreter": {
        "hash": "8891f3cfb547db503e78f25128202364d60f1c09259e140a1bd236c27b0b7a43"
      }
    }
  },
  "nbformat": 4,
  "nbformat_minor": 0
}
